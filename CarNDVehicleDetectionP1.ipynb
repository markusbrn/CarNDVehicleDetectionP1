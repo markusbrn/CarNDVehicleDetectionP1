{
 "cells": [
  {
   "cell_type": "markdown",
   "metadata": {},
   "source": [
    "## Template detection in image with cv2.matchTemplate"
   ]
  },
  {
   "cell_type": "code",
   "execution_count": null,
   "metadata": {},
   "outputs": [],
   "source": [
    "import numpy as np\n",
    "import cv2\n",
    "import matplotlib.pyplot as plt\n",
    "import matplotlib.image as mpimg\n",
    "import glob\n",
    "%matplotlib inline\n",
    "\n",
    "image = mpimg.imread('/home/markus/udacity/Projekte/CarNDVehicleDetectionP1/test_images/template_matching/bbox-example-image.jpg')\n",
    "templist = glob.glob('/home/markus/udacity/Projekte/CarNDVehicleDetectionP1/test_images/template_matching/cutout*.jpg')\n",
    "# Define a function that takes an image, a list of bounding boxes, \n",
    "# and optional color tuple and line thickness as inputs\n",
    "# then draws boxes in that color on the output\n",
    "\n",
    "def draw_boxes(img, bboxes, color=(0, 0, 255), thick=6):\n",
    "    # make a copy of the image\n",
    "    draw_img = np.copy(img)\n",
    "    for bbox in bboxes:\n",
    "        cv2.rectangle(draw_img, bbox[0], bbox[1], color, thick)\n",
    "    \n",
    "    return draw_img # Change this line to return image copy with boxes\n",
    "# Add bounding boxes in this format, these are just example coordinates.\n",
    "    \n",
    "def find_matches(img, template_list):\n",
    "    # Make a copy of the image to draw on\n",
    "    # Define an empty list to take bbox coords\n",
    "    bbox_list = []\n",
    "    # Iterate through template list\n",
    "    # Read in templates one by one\n",
    "    for temp in templist:\n",
    "        img_tmp = mpimg.imread(temp)\n",
    "        match = cv2.matchTemplate(img,img_tmp,method=0)\n",
    "        minVal, maxVal, minLoc, maxLoc = cv2.minMaxLoc(match)\n",
    "        bbox_list.append((minLoc,(minLoc[0]+img_tmp.shape[1],minLoc[1]+img_tmp.shape[0])))\n",
    "    return bbox_list\n",
    "\n",
    "bboxes = find_matches(image,templist)\n",
    "result = draw_boxes(image, bboxes)\n",
    "plt.imshow(result)"
   ]
  },
  {
   "cell_type": "markdown",
   "metadata": {},
   "source": [
    "# Build and Train a Classifier for Car Detection in Images\n",
    "\n",
    "In this section the classifier is designed that will later be used to detect cars in a video stream. In the next section the training of the classifier is addressed."
   ]
  },
  {
   "cell_type": "code",
   "execution_count": null,
   "metadata": {
    "collapsed": true
   },
   "outputs": [],
   "source": [
    "# import packages that are required for computations in this notebook\n",
    "import numpy as np\n",
    "import cv2\n",
    "import matplotlib.pyplot as plt\n",
    "import matplotlib.image as mpimg\n",
    "import glob\n",
    "%matplotlib inline"
   ]
  },
  {
   "cell_type": "markdown",
   "metadata": {},
   "source": [
    "For the training of the classifier, the vehicle and non-vehicle images of the git repository training_datasets will be used. The file paths to the images are first loaded with glob and stored in the lists cars[] and nocars[] respectively."
   ]
  },
  {
   "cell_type": "code",
   "execution_count": null,
   "metadata": {
    "collapsed": true
   },
   "outputs": [],
   "source": [
    "cars = glob.glob('./training_datasets/vehicles/*/*.jpeg', recursive=True)\n",
    "nocars = glob.glob('./training_datasets/non-vehicles/*/*.jpeg', recursive=True)"
   ]
  },
  {
   "cell_type": "markdown",
   "metadata": {},
   "source": [
    "In the following the 'RGB' representation of a randomly selected car image will be transformed into different color spaces and the pixel values of the test image will be shown in 3d plots for each colorspace."
   ]
  },
  {
   "cell_type": "code",
   "execution_count": null,
   "metadata": {
    "collapsed": true
   },
   "outputs": [],
   "source": [
    "from mpl_toolkits.mplot3d import Axes3D\n",
    "\n",
    "def plot3d(imglist, colors_rgb,\n",
    "        csplist, axis_limits=[(0, 255), (0, 255), (0, 255)]):\n",
    "\n",
    "    # Create figure and 3D axes\n",
    "    fig = plt.figure(figsize=(15, 10))\n",
    "    for i in range(len(imglist)):\n",
    "        pixels = imglist[i]\n",
    "        axis_labels = list(csplist[i])\n",
    "        \n",
    "        ax = fig.add_subplot(2,3,i+1,projection='3d')\n",
    "\n",
    "        # Set axis limits\n",
    "        ax.set_xlim(*axis_limits[0])\n",
    "        ax.set_ylim(*axis_limits[1])\n",
    "        ax.set_zlim(*axis_limits[2])\n",
    "\n",
    "        # Set axis labels and sizes\n",
    "        ax.tick_params(axis='both', which='major', labelsize=8, pad=8)\n",
    "        ax.set_xlabel(axis_labels[0], fontsize=8, labelpad=8)\n",
    "        ax.set_ylabel(axis_labels[1], fontsize=8, labelpad=8)\n",
    "        ax.set_zlabel(axis_labels[2], fontsize=8, labelpad=8)\n",
    "\n",
    "        # Plot pixel values with colors given in colors_rgb\n",
    "        ax.scatter(\n",
    "            pixels[:, :, 0].ravel(),\n",
    "            pixels[:, :, 1].ravel(),\n",
    "            pixels[:, :, 2].ravel(),\n",
    "            c=colors_rgb.reshape((-1, 3)), edgecolors='none')\n",
    "    plt.show()"
   ]
  },
  {
   "cell_type": "code",
   "execution_count": null,
   "metadata": {
    "scrolled": false
   },
   "outputs": [],
   "source": [
    "sel = np.random.randint(0,len(cars))\n",
    "img = mpimg.imread(cars[sel])\n",
    "img = cv2.resize(img, dsize=(32,32), interpolation=cv2.INTER_NEAREST)\n",
    "plt.imshow(img)\n",
    "img_rgb = np.copy(img)\n",
    "img_hsv = cv2.cvtColor(img, cv2.COLOR_RGB2HSV)\n",
    "img_luv = cv2.cvtColor(img, cv2.COLOR_RGB2LUV)\n",
    "img_hls = cv2.cvtColor(img, cv2.COLOR_RGB2HLS)\n",
    "img_yuv = cv2.cvtColor(img, cv2.COLOR_RGB2YUV)\n",
    "img_ycrcb = cv2.cvtColor(img, cv2.COLOR_RGB2YCrCb)\n",
    "img_rgbc = img_rgb / 255.\n",
    "\n",
    "img_list = [img_rgb,img_hsv,img_luv,img_hls,img_yuv,img_ycrcb]\n",
    "csp_list = ['rgb','hsv','luv','hls','yuv','ycrcb']\n",
    "\n",
    "plot3d(img_list,img_rgbc,csp_list)"
   ]
  },
  {
   "cell_type": "markdown",
   "metadata": {},
   "source": [
    "=> Especially the 'HLS' and 'HSV' colorspaces show a nice separation of car pixels and background so that a transformation into these colorspaces might be able to help the classification."
   ]
  },
  {
   "cell_type": "markdown",
   "metadata": {},
   "source": [
    "In the following section the functions for feature extraction from a test image are defined. These are:\n",
    "\n",
    "* color histograms\n",
    "* spatial color binning\n",
    "* and hog features"
   ]
  },
  {
   "cell_type": "code",
   "execution_count": null,
   "metadata": {},
   "outputs": [],
   "source": [
    "# Define a function to compute color histogram features  \n",
    "def color_hist(img, nbins=32, bins_range=(0, 256)):\n",
    "    channel1_hist = np.histogram(img[:,:,0], bins=nbins, range=bins_range)\n",
    "    channel2_hist = np.histogram(img[:,:,1], bins=nbins, range=bins_range)\n",
    "    channel3_hist = np.histogram(img[:,:,2], bins=nbins, range=bins_range)\n",
    "    hist_features = np.concatenate((channel1_hist[0], channel2_hist[0], channel3_hist[0]))\n",
    "    return hist_features\n",
    "\n",
    "# print (HLS) color histogram for test image\n",
    "img = mpimg.imread(cars[sel])\n",
    "f_img = cv2.cvtColor(img, cv2.COLOR_RGB2YCrCb)\n",
    "fig = plt.figure(figsize=(12,4))\n",
    "plt.subplot(121)\n",
    "plt.imshow(img)\n",
    "plt.title('Original Image')\n",
    "plt.subplot(122)\n",
    "plt.plot(color_hist(f_img))\n",
    "plt.title('Raw Features')\n",
    "fig.tight_layout()"
   ]
  },
  {
   "cell_type": "code",
   "execution_count": null,
   "metadata": {},
   "outputs": [],
   "source": [
    "# Define a function to compute binned color features  \n",
    "def bin_spatial(img, size=(32, 32)):\n",
    "    features = cv2.resize(img, size).ravel() \n",
    "    return features\n",
    "\n",
    "# print (HLS) spatial binning for same test image as above\n",
    "fig = plt.figure(figsize=(12,4))\n",
    "plt.subplot(121)\n",
    "plt.imshow(img)\n",
    "plt.title('Original Image')\n",
    "plt.subplot(122)\n",
    "plt.plot(bin_spatial(f_img))\n",
    "plt.title('Raw Features')\n",
    "fig.tight_layout()"
   ]
  },
  {
   "cell_type": "code",
   "execution_count": null,
   "metadata": {},
   "outputs": [],
   "source": [
    "from skimage.feature import hog\n",
    "\n",
    "# Define a function to return HOG features and visualization\n",
    "def get_hog_features(img, orient=9, pix_per_cell=8, cell_per_block=2, vis=False, feature_vec=True):\n",
    "    if vis == True:\n",
    "        features, hog_image = hog(img, orientations=orient, pixels_per_cell=(pix_per_cell, pix_per_cell),\n",
    "                                  cells_per_block=(cell_per_block, cell_per_block), transform_sqrt=False, \n",
    "                                  visualise=True, feature_vector=feature_vec)\n",
    "        return features, hog_image\n",
    "    else:      \n",
    "        features = hog(img, orientations=orient, pixels_per_cell=(pix_per_cell, pix_per_cell),\n",
    "                       cells_per_block=(cell_per_block, cell_per_block), transform_sqrt=False, \n",
    "                       visualise=False, feature_vector=feature_vec)\n",
    "        return features\n",
    "    \n",
    "# print hog features for grayscale version of same test image as above\n",
    "f_img = cv2.cvtColor(img, cv2.COLOR_RGB2GRAY)\n",
    "hog_features,hog_image = get_hog_features(f_img,vis=True)\n",
    "fig = plt.figure(figsize=(12,4))\n",
    "plt.subplot(131)\n",
    "plt.imshow(img)\n",
    "plt.title('Original Image')\n",
    "plt.subplot(132)\n",
    "plt.plot(hog_features)\n",
    "plt.title('Raw Features')\n",
    "plt.subplot(133)\n",
    "plt.imshow(hog_image,cmap='gray')\n",
    "plt.title('HOG image')\n",
    "fig.tight_layout()"
   ]
  },
  {
   "cell_type": "markdown",
   "metadata": {},
   "source": [
    "Next, the functions defined above are called from the function extract_features. The output of this function is a concatenated feature array that will be used for classification of images and/or video streams."
   ]
  },
  {
   "cell_type": "code",
   "execution_count": null,
   "metadata": {
    "collapsed": true
   },
   "outputs": [],
   "source": [
    "def extract_features(imgstrs, cspace='RGB', hist_bins=32, hist_range=(0, 256),\n",
    "                                            spatial_size=(32, 32),\n",
    "                                            orient=9, pix_per_cell=8, cell_per_block=2, hog_channel='ALL',\n",
    "                                            colhist=True, spatial=True, hog=True):\n",
    "    features = []\n",
    "    for imgstr in imgstrs:\n",
    "        img = mpimg.imread(imgstr)\n",
    "        if cspace != 'RGB':\n",
    "            if cspace == 'HSV':\n",
    "                feature_image = cv2.cvtColor(img, cv2.COLOR_RGB2HSV)\n",
    "            elif cspace == 'LUV':\n",
    "                feature_image = cv2.cvtColor(img, cv2.COLOR_RGB2LUV)\n",
    "            elif cspace == 'HLS':\n",
    "                feature_image = cv2.cvtColor(img, cv2.COLOR_RGB2HLS)\n",
    "            elif cspace == 'YUV':\n",
    "                feature_image = cv2.cvtColor(img, cv2.COLOR_RGB2YUV)\n",
    "            elif cspace == 'YCrCb':\n",
    "                feature_image = cv2.cvtColor(img, cv2.COLOR_RGB2YCrCb)\n",
    "        else: feature_image = np.copy(img)\n",
    "        features_colhist=[]\n",
    "        features_spatial=[]\n",
    "        features_hog=[]\n",
    "        if(colhist==True):\n",
    "            features_colhist = color_hist(feature_image,nbins=hist_bins,bins_range=hist_range)\n",
    "        if(spatial==True):\n",
    "            features_spatial = bin_spatial(feature_image,size=spatial_size)\n",
    "        if(hog==True):\n",
    "            if hog_channel == 'ALL':\n",
    "                features_hog=[]\n",
    "                for channel in range(feature_image.shape[2]):\n",
    "                    ch_feats = get_hog_features(feature_image[:,:,channel], \n",
    "                                                orient, pix_per_cell, cell_per_block, \n",
    "                                                vis=False, feature_vec=False).ravel()\n",
    "                    features_hog.append(ch_feats)\n",
    "                features_hog = np.hstack(features_hog)\n",
    "            else:\n",
    "                features_hog = get_hog_features(feature_image[:,:,hog_channel], orient, \n",
    "                                                pix_per_cell, cell_per_block,\n",
    "                                                vis=False, feature_vec=True)\n",
    "        features.append(np.concatenate((features_spatial,features_colhist,features_hog)))\n",
    "    return features"
   ]
  },
  {
   "cell_type": "markdown",
   "metadata": {},
   "source": [
    "The functions are now applied and with the extracted features the classifier is trained:"
   ]
  },
  {
   "cell_type": "code",
   "execution_count": null,
   "metadata": {},
   "outputs": [],
   "source": [
    "from sklearn.preprocessing import StandardScaler\n",
    "\n",
    "# extract features from images:\n",
    "car_features = extract_features(cars, cspace='YCrCb')\n",
    "nocar_features = extract_features(nocars, cspace='YCrCb')\n",
    "\n",
    "if len(car_features) > 0:\n",
    "    # Create an array stack of feature vectors\n",
    "    X = np.vstack((car_features, nocar_features)).astype(np.float64)\n",
    "    # Fit a per-column scaler\n",
    "    X_scaler = StandardScaler().fit(X)\n",
    "    # Apply the scaler to X\n",
    "    scaled_X = X_scaler.transform(X)\n",
    "else:\n",
    "    print('function only returns empty feature vectors...')\n",
    "        \n",
    "# Define the labels vector\n",
    "y = np.hstack((np.ones(len(car_features)), np.zeros(len(nocar_features))))"
   ]
  },
  {
   "cell_type": "code",
   "execution_count": null,
   "metadata": {
    "collapsed": true
   },
   "outputs": [],
   "source": [
    "from sklearn.model_selection import train_test_split\n",
    "\n",
    "# Split up data into randomized training and test sets\n",
    "rand_state = np.random.randint(0, 100)\n",
    "X_train, X_test, y_train, y_test = train_test_split(scaled_X, y, test_size=0.2, random_state=rand_state)"
   ]
  },
  {
   "cell_type": "code",
   "execution_count": null,
   "metadata": {},
   "outputs": [],
   "source": [
    "from sklearn.svm import SVC\n",
    "from sklearn.model_selection import GridSearchCV\n",
    "from sklearn.metrics import accuracy_score\n",
    "import time\n",
    "\n",
    "#parameters = {'C':[1, 10]}\n",
    "clf = SVC(kernel='linear')\n",
    "#clf = GridSearchCV(svr, parameters) \n",
    "#print(clf.best_params_)\n",
    "\n",
    "# Check the training time for the SVC\n",
    "t=time.time()\n",
    "clf.fit(X_train, y_train)\n",
    "t2 = time.time()\n",
    "print(round(t2-t, 2), 'Seconds to train SVC...')\n",
    "# Check the score of the SVC\n",
    "print('Test Accuracy of SVC = ', round(clf.score(X_test, y_test), 4))\n",
    "# Check the prediction time for a single sample\n",
    "t=time.time()\n",
    "n_predict = 10\n",
    "print('My SVC predicts: ', clf.predict(X_test[0:n_predict]))\n",
    "print('For these',n_predict, 'labels: ', y_test[0:n_predict])\n",
    "t2 = time.time()\n",
    "print(round(t2-t, 5), 'Seconds to predict', n_predict,'labels with SVC')"
   ]
  },
  {
   "cell_type": "markdown",
   "metadata": {},
   "source": [
    "# Detect cars in images by sliding window search"
   ]
  },
  {
   "cell_type": "code",
   "execution_count": null,
   "metadata": {},
   "outputs": [],
   "source": [
    "def convert_color(img, cspace='HLS'):\n",
    "    if cspace == 'HSV':\n",
    "        return cv2.cvtColor(img, cv2.COLOR_RGB2HSV)\n",
    "    elif cspace == 'LUV':\n",
    "        return cv2.cvtColor(img, cv2.COLOR_RGB2LUV)\n",
    "    elif cspace == 'HLS':\n",
    "        return cv2.cvtColor(img, cv2.COLOR_RGB2HLS)\n",
    "    elif cspace == 'YUV':\n",
    "        return cv2.cvtColor(img, cv2.COLOR_RGB2YUV)\n",
    "    elif cspace == 'YCrCb':\n",
    "        return cv2.cvtColor(img, cv2.COLOR_RGB2YCrCb)\n",
    "    else: print('no admissible colorspace selected')\n",
    "\n",
    "# Define a single function that can extract features using hog sub-sampling and make predictions\n",
    "def find_cars(img, ystart, ystop, scale,\n",
    "              clf, X_scaler,\n",
    "              orient=9, pix_per_cell=8, cell_per_block=2,\n",
    "              spatial_size=32,\n",
    "              hist_bins=32):\n",
    "    \n",
    "    draw_img = np.copy(img)\n",
    "    \n",
    "    img_tosearch = img[ystart:ystop,:,:]\n",
    "    ctrans_tosearch = convert_color(img_tosearch, cspace='YCrCb')\n",
    "    if scale != 1:\n",
    "        imshape = ctrans_tosearch.shape\n",
    "        ctrans_tosearch = cv2.resize(ctrans_tosearch, (np.int(imshape[1]/scale), np.int(imshape[0]/scale)))\n",
    "        \n",
    "    ch1 = ctrans_tosearch[:,:,0]\n",
    "    ch2 = ctrans_tosearch[:,:,1]\n",
    "    ch3 = ctrans_tosearch[:,:,2]\n",
    "\n",
    "    # Define blocks and steps as above\n",
    "    nxblocks = (ch1.shape[1] // pix_per_cell) - cell_per_block + 1\n",
    "    nyblocks = (ch1.shape[0] // pix_per_cell) - cell_per_block + 1 \n",
    "    nfeat_per_block = orient*cell_per_block**2\n",
    "    \n",
    "    # 64 was the orginal sampling rate, with 8 cells and 8 pix per cell\n",
    "    window = 64\n",
    "    nblocks_per_window = (window // pix_per_cell) - cell_per_block + 1\n",
    "    cells_per_step = 2  # Instead of overlap, define how many cells to step\n",
    "    nxsteps = (nxblocks - nblocks_per_window) // cells_per_step\n",
    "    nysteps = (nyblocks - nblocks_per_window) // cells_per_step\n",
    "    \n",
    "    # Compute individual channel HOG features for the entire image\n",
    "    hog1 = get_hog_features(ch1, orient, pix_per_cell, cell_per_block, feature_vec=False)\n",
    "    hog2 = get_hog_features(ch2, orient, pix_per_cell, cell_per_block, feature_vec=False)\n",
    "    hog3 = get_hog_features(ch3, orient, pix_per_cell, cell_per_block, feature_vec=False)\n",
    "    \n",
    "    bbox_list=[]\n",
    "    for xb in range(nxsteps):\n",
    "        for yb in range(nysteps):\n",
    "            ypos = yb*cells_per_step\n",
    "            xpos = xb*cells_per_step\n",
    "            # Extract HOG for this patch\n",
    "            hog_feat1 = hog1[ypos:ypos+nblocks_per_window, xpos:xpos+nblocks_per_window].ravel() \n",
    "            hog_feat2 = hog2[ypos:ypos+nblocks_per_window, xpos:xpos+nblocks_per_window].ravel() \n",
    "            hog_feat3 = hog3[ypos:ypos+nblocks_per_window, xpos:xpos+nblocks_per_window].ravel() \n",
    "            hog_features = np.hstack((hog_feat1, hog_feat2, hog_feat3))\n",
    "\n",
    "            xleft = xpos*pix_per_cell\n",
    "            ytop = ypos*pix_per_cell\n",
    "\n",
    "            # Extract the image patch\n",
    "            subimg = cv2.resize(ctrans_tosearch[ytop:ytop+window, xleft:xleft+window], (64,64))\n",
    "          \n",
    "            # Get color features\n",
    "            spatial_features = bin_spatial(subimg, size=(spatial_size,spatial_size))\n",
    "            hist_features = color_hist(subimg, nbins=hist_bins)\n",
    "\n",
    "            # Scale features and make a prediction\n",
    "            features = ((np.concatenate((spatial_features, hist_features, hog_features))).reshape(1,-1)).astype(np.float64)\n",
    "            features_scaled = X_scaler.transform(features)\n",
    "            #test_features = X_scaler.transform(np.hstack((shape_feat, hist_feat)).reshape(1, -1))    \n",
    "            test_prediction = clf.predict(features_scaled)\n",
    "            \n",
    "            if test_prediction == 1:\n",
    "                xbox_left = np.int(xleft*scale)\n",
    "                ytop_draw = np.int(ytop*scale)\n",
    "                win_draw = np.int(window*scale)\n",
    "                bbox_list.append(((xbox_left, ytop_draw+ystart),(xbox_left+win_draw,ytop_draw+win_draw+ystart)))\n",
    "                \n",
    "    return bbox_list\n",
    "\n",
    "def draw_boxes(img, bboxes, color=(0, 0, 255), thick=6):\n",
    "    # make a copy of the image\n",
    "    draw_img = np.copy(img)\n",
    "    for bbox in bboxes:\n",
    "        cv2.rectangle(draw_img, bbox[0], bbox[1], color, thick)\n",
    "    \n",
    "    return draw_img"
   ]
  },
  {
   "cell_type": "code",
   "execution_count": null,
   "metadata": {
    "scrolled": false
   },
   "outputs": [],
   "source": [
    "imgstrs = glob.glob('./test_images/*.jpg')\n",
    "\n",
    "plt.figure(figsize=(15,5))\n",
    "i=0\n",
    "for imgstr in imgstrs:\n",
    "    img = mpimg.imread(imgstr)\n",
    "    i=i+1\n",
    "    plt.subplot(2,3,i)\n",
    "    bboxes1 = find_cars(img, np.int(img.shape[0]*(1/3)), np.int(img.shape[0]*(5/6)), 1.,\n",
    "                        clf, X_scaler)\n",
    "    bboxes2 = find_cars(img, np.int(img.shape[0]*(1/3)), np.int(img.shape[0]), 2.,\n",
    "                        clf, X_scaler)\n",
    "    bboxes3 = find_cars(img, np.int(img.shape[0]*(1/3)), np.int(img.shape[0]), 2.5,\n",
    "                        clf, X_scaler)\n",
    "    bboxes = bboxes1+bboxes2+bboxes3\n",
    "    img_det = draw_boxes(img,bboxes)\n",
    "    plt.imshow(img_det)"
   ]
  },
  {
   "cell_type": "markdown",
   "metadata": {},
   "source": [
    "# Apply search on video stream"
   ]
  },
  {
   "cell_type": "code",
   "execution_count": null,
   "metadata": {
    "collapsed": true
   },
   "outputs": [],
   "source": [
    "# Import everything needed to edit/save/watch video clips\n",
    "from moviepy.editor import VideoFileClip\n",
    "from IPython.display import HTML"
   ]
  },
  {
   "cell_type": "code",
   "execution_count": null,
   "metadata": {
    "collapsed": true
   },
   "outputs": [],
   "source": [
    "def process_image(img):\n",
    "    bboxes1 = find_cars(img, np.int(img.shape[0]*(1/3)), np.int(img.shape[0]*(5/6)), 1.,\n",
    "                        clf, X_scaler)\n",
    "    bboxes2 = find_cars(img, np.int(img.shape[0]*(1/3)), np.int(img.shape[0]), 2.,\n",
    "                        clf, X_scaler)\n",
    "    bboxes3 = find_cars(img, np.int(img.shape[0]*(1/3)), np.int(img.shape[0]), 2.5,\n",
    "                        clf, X_scaler)\n",
    "    bboxes = bboxes1+bboxes2+bboxes3\n",
    "    img_det = draw_boxes(img,bboxes)\n",
    "    return img_det"
   ]
  },
  {
   "cell_type": "code",
   "execution_count": null,
   "metadata": {},
   "outputs": [],
   "source": [
    "video_output = './test_videos_output/test_video.mp4'\n",
    "video_input = VideoFileClip(\"./test_videos_input/test_video.mp4\")\n",
    "clip = video_input.fl_image(process_image)#.subclip(0,5) #NOTE: this function expects color images!!\n",
    "%time clip.write_videofile(video_output, audio=False)"
   ]
  },
  {
   "cell_type": "code",
   "execution_count": null,
   "metadata": {
    "collapsed": true
   },
   "outputs": [],
   "source": []
  }
 ],
 "metadata": {
  "kernelspec": {
   "display_name": "Python 3",
   "language": "python",
   "name": "python3"
  },
  "language_info": {
   "codemirror_mode": {
    "name": "ipython",
    "version": 3
   },
   "file_extension": ".py",
   "mimetype": "text/x-python",
   "name": "python",
   "nbconvert_exporter": "python",
   "pygments_lexer": "ipython3",
   "version": "3.5.2"
  },
  "widgets": {
   "state": {},
   "version": "1.1.2"
  }
 },
 "nbformat": 4,
 "nbformat_minor": 2
}
