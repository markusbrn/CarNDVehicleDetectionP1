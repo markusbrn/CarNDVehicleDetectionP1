{
 "cells": [
  {
   "cell_type": "markdown",
   "metadata": {},
   "source": [
    "# Build and Train a Classifier for Car Detection in Images\n",
    "\n",
    "In this section the classifier is designed that will later be used to detect cars in a video stream. In the next section the training of the classifier is addressed."
   ]
  },
  {
   "cell_type": "code",
   "execution_count": null,
   "metadata": {
    "collapsed": true
   },
   "outputs": [],
   "source": [
    "# import packages that are required for computations in this notebook\n",
    "import numpy as np\n",
    "import cv2\n",
    "import matplotlib.pyplot as plt\n",
    "import matplotlib.image as mpimg\n",
    "import glob\n",
    "from mpl_toolkits.mplot3d import Axes3D\n",
    "from skimage.feature import hog\n",
    "from sklearn.preprocessing import StandardScaler\n",
    "from sklearn.model_selection import train_test_split\n",
    "from sklearn.svm import SVC\n",
    "from sklearn.svm import LinearSVC\n",
    "from sklearn.model_selection import GridSearchCV\n",
    "from sklearn.metrics import accuracy_score\n",
    "import time\n",
    "from scipy.ndimage.measurements import label\n",
    "from PIL import Image\n",
    "from PIL import ImageDraw\n",
    "from PIL import ImageFont\n",
    "%matplotlib inline"
   ]
  },
  {
   "cell_type": "markdown",
   "metadata": {},
   "source": [
    "For the training of the classifier, the vehicle and non-vehicle images of the git repository training_datasets will be used. The file paths to the images are first loaded with glob and stored in the lists cars[] and nocars[] respectively."
   ]
  },
  {
   "cell_type": "code",
   "execution_count": null,
   "metadata": {},
   "outputs": [],
   "source": [
    "cars = glob.glob('./training_datasets/vehicles/*/*/*.png', recursive=True)\n",
    "nocars = glob.glob('./training_datasets/non_vehicles/*/*/*.png', recursive=True)\n",
    "print(len(cars))\n",
    "print(len(nocars))"
   ]
  },
  {
   "cell_type": "markdown",
   "metadata": {},
   "source": [
    "In the following the 'RGB' representation of a randomly selected car image will be transformed into different color spaces and the pixel values of the test image will be shown in 3d plots for each colorspace."
   ]
  },
  {
   "cell_type": "code",
   "execution_count": null,
   "metadata": {
    "collapsed": true
   },
   "outputs": [],
   "source": [
    "def plot3d(imglist, colors_rgb,\n",
    "        csplist, axis_limits=[(0, 255), (0, 255), (0, 255)]):\n",
    "\n",
    "    # Create figure and 3D axes\n",
    "    fig = plt.figure(figsize=(15, 10))\n",
    "    for i in range(len(imglist)):\n",
    "        pixels = imglist[i]\n",
    "        axis_labels = list(csplist[i])\n",
    "        \n",
    "        ax = fig.add_subplot(2,3,i+1,projection='3d')\n",
    "\n",
    "        # Set axis limits\n",
    "        ax.set_xlim(*axis_limits[0])\n",
    "        ax.set_ylim(*axis_limits[1])\n",
    "        ax.set_zlim(*axis_limits[2])\n",
    "\n",
    "        # Set axis labels and sizes\n",
    "        ax.tick_params(axis='both', which='major', labelsize=8, pad=8)\n",
    "        ax.set_xlabel(axis_labels[0], fontsize=8, labelpad=8)\n",
    "        ax.set_ylabel(axis_labels[1], fontsize=8, labelpad=8)\n",
    "        ax.set_zlabel(axis_labels[2], fontsize=8, labelpad=8)\n",
    "\n",
    "        # Plot pixel values with colors given in colors_rgb\n",
    "        ax.scatter(\n",
    "            pixels[:, :, 0].ravel(),\n",
    "            pixels[:, :, 1].ravel(),\n",
    "            pixels[:, :, 2].ravel(),\n",
    "            c=colors_rgb.reshape((-1, 3)), edgecolors='none')\n",
    "    plt.show()"
   ]
  },
  {
   "cell_type": "code",
   "execution_count": null,
   "metadata": {
    "scrolled": false
   },
   "outputs": [],
   "source": [
    "sel = np.random.randint(0,len(cars))\n",
    "img = cv2.cvtColor(cv2.imread(cars[sel]),cv2.COLOR_BGR2RGB)\n",
    "img = cv2.resize(img, dsize=(64,64), interpolation=cv2.INTER_NEAREST)\n",
    "plt.imshow(img)\n",
    "img_rgb = np.copy(img)\n",
    "img_hsv = cv2.cvtColor(img, cv2.COLOR_RGB2HSV)\n",
    "img_luv = cv2.cvtColor(img, cv2.COLOR_RGB2LUV)\n",
    "img_hls = cv2.cvtColor(img, cv2.COLOR_RGB2HLS)\n",
    "img_yuv = cv2.cvtColor(img, cv2.COLOR_RGB2YUV)\n",
    "img_ycrcb = cv2.cvtColor(img, cv2.COLOR_RGB2YCrCb)\n",
    "img_rgbc = img_rgb / 255.\n",
    "\n",
    "img_list = [img_rgb,img_hsv,img_luv,img_hls,img_yuv,img_ycrcb]\n",
    "csp_list = ['rgb','hsv','luv','hls','yuv','ycrcb']\n",
    "plot3d(img_list,img_rgbc,csp_list)\n",
    "\n",
    "img_nc = cv2.cvtColor(cv2.imread(nocars[sel]),cv2.COLOR_BGR2RGB)\n",
    "img_nc = cv2.resize(img_nc, dsize=(64,64), interpolation=cv2.INTER_NEAREST)\n",
    "plt.imshow(img_nc)\n",
    "img_rgb = np.copy(img_nc)\n",
    "img_hsv = cv2.cvtColor(img_nc, cv2.COLOR_RGB2HSV)\n",
    "img_luv = cv2.cvtColor(img_nc, cv2.COLOR_RGB2LUV)\n",
    "img_hls = cv2.cvtColor(img_nc, cv2.COLOR_RGB2HLS)\n",
    "img_yuv = cv2.cvtColor(img_nc, cv2.COLOR_RGB2YUV)\n",
    "img_ycrcb = cv2.cvtColor(img_nc, cv2.COLOR_RGB2YCrCb)\n",
    "img_rgbc = img_rgb / 255.\n",
    "\n",
    "img_list = [img_rgb,img_hsv,img_luv,img_hls,img_yuv,img_ycrcb]\n",
    "plot3d(img_list,img_rgbc,csp_list)"
   ]
  },
  {
   "cell_type": "markdown",
   "metadata": {},
   "source": [
    "=> Especially the 'HLS' and 'HSV' colorspaces show a nice separation of car pixels and background so that a transformation into these colorspaces might be able to help the classification."
   ]
  },
  {
   "cell_type": "markdown",
   "metadata": {},
   "source": [
    "In the following section the functions for feature extraction from a test image are defined. These are:\n",
    "\n",
    "* color histograms\n",
    "* spatial color binning\n",
    "* and hog features"
   ]
  },
  {
   "cell_type": "code",
   "execution_count": null,
   "metadata": {},
   "outputs": [],
   "source": [
    "# Define a function to compute color histogram features  \n",
    "def color_hist(img, nbins=32, bins_range=(0, 256)):\n",
    "    channel1_hist = np.histogram(img[:,:,0], bins=nbins, range=bins_range)\n",
    "    channel2_hist = np.histogram(img[:,:,1], bins=nbins, range=bins_range)\n",
    "    channel3_hist = np.histogram(img[:,:,2], bins=nbins, range=bins_range)\n",
    "    hist_features = np.concatenate((channel1_hist[0], channel2_hist[0], channel3_hist[0]))\n",
    "    return hist_features\n",
    "\n",
    "# print (HLS) color histogram for test image\n",
    "f_img = cv2.cvtColor(img, cv2.COLOR_RGB2YCrCb)\n",
    "fig = plt.figure(figsize=(12,4))\n",
    "plt.subplot(121)\n",
    "plt.imshow(img)\n",
    "plt.title('Original Image')\n",
    "plt.subplot(122)\n",
    "plt.plot(color_hist(f_img))\n",
    "plt.title('Raw Features')\n",
    "fig.tight_layout()"
   ]
  },
  {
   "cell_type": "code",
   "execution_count": null,
   "metadata": {},
   "outputs": [],
   "source": [
    "# Define a function to compute binned color features  \n",
    "def bin_spatial(img, size=(32, 32)):\n",
    "    features = cv2.resize(img, size).ravel() \n",
    "    return features\n",
    "\n",
    "# print (HLS) spatial binning for same test image as above\n",
    "fig = plt.figure(figsize=(12,4))\n",
    "plt.subplot(121)\n",
    "plt.imshow(img)\n",
    "plt.title('Original Image')\n",
    "plt.subplot(122)\n",
    "plt.plot(bin_spatial(f_img))\n",
    "plt.title('Raw Features')\n",
    "fig.tight_layout()"
   ]
  },
  {
   "cell_type": "code",
   "execution_count": null,
   "metadata": {},
   "outputs": [],
   "source": [
    "# Define a function to return HOG features and visualization\n",
    "def get_hog_features(img, orient=9, pix_per_cell=8, cell_per_block=2, vis=False, feature_vec=True):\n",
    "    if vis == True:\n",
    "        features, hog_image = hog(img, orientations=orient, pixels_per_cell=(pix_per_cell, pix_per_cell),\n",
    "                                  cells_per_block=(cell_per_block, cell_per_block), transform_sqrt=False, \n",
    "                                  visualise=True, feature_vector=feature_vec)\n",
    "        return features, hog_image\n",
    "    else:      \n",
    "        features = hog(img, orientations=orient, pixels_per_cell=(pix_per_cell, pix_per_cell),\n",
    "                       cells_per_block=(cell_per_block, cell_per_block), transform_sqrt=False, \n",
    "                       visualise=False, feature_vector=feature_vec)\n",
    "        return features\n",
    "    \n",
    "# print hog features for grayscale version of same test image as above\n",
    "f_img = cv2.cvtColor(img, cv2.COLOR_RGB2YCrCb)\n",
    "hog_features0,hog_image0 = get_hog_features(f_img[:,:,0],vis=True)\n",
    "hog_features1,hog_image1 = get_hog_features(f_img[:,:,1],vis=True)\n",
    "hog_features2,hog_image2 = get_hog_features(f_img[:,:,2],vis=True)\n",
    "fig = plt.figure(figsize=(12,8))\n",
    "plt.subplot(231)\n",
    "plt.imshow(img)\n",
    "plt.title('Original Image')\n",
    "plt.subplot(234)\n",
    "plt.imshow(hog_image0,cmap='gray')\n",
    "plt.title('HOG image ch0')\n",
    "plt.subplot(235)\n",
    "plt.imshow(hog_image1,cmap='gray')\n",
    "plt.title('HOG image ch1')\n",
    "plt.subplot(236)\n",
    "plt.imshow(hog_image2,cmap='gray')\n",
    "plt.title('HOG image ch2')\n",
    "fig.tight_layout()"
   ]
  },
  {
   "cell_type": "markdown",
   "metadata": {},
   "source": [
    "Next, the functions defined above are called from the function extract_features. The output of this function is a concatenated feature array that will be used for classification of images and/or video streams."
   ]
  },
  {
   "cell_type": "code",
   "execution_count": null,
   "metadata": {
    "collapsed": true
   },
   "outputs": [],
   "source": [
    "def extract_features(img, cspace='YCrCb', hist_bins=32, hist_range=(0, 256),\n",
    "                                          spatial_size=(32, 32),\n",
    "                                          orient=9, pix_per_cell=8, cell_per_block=2, hog_channel=0,\n",
    "                                          hist_feat=True, spatial_feat=True, hog_feat=True):\n",
    "    features = []\n",
    "    if cspace != 'RGB':\n",
    "        if cspace == 'HSV':\n",
    "            feature_image = cv2.cvtColor(img, cv2.COLOR_RGB2HSV)\n",
    "        elif cspace == 'LUV':\n",
    "            feature_image = cv2.cvtColor(img, cv2.COLOR_RGB2LUV)\n",
    "        elif cspace == 'HLS':\n",
    "            feature_image = cv2.cvtColor(img, cv2.COLOR_RGB2HLS)\n",
    "        elif cspace == 'YUV':\n",
    "            feature_image = cv2.cvtColor(img, cv2.COLOR_RGB2YUV)\n",
    "        elif cspace == 'YCrCb':\n",
    "            feature_image = cv2.cvtColor(img, cv2.COLOR_RGB2YCrCb)\n",
    "    else: feature_image = np.copy(img)\n",
    "    features_colhist=[]\n",
    "    features_spatial=[]\n",
    "    features_hog=[]\n",
    "    if(hist_feat==True):\n",
    "        features_colhist = color_hist(feature_image,nbins=hist_bins,bins_range=hist_range)\n",
    "    if(spatial_feat==True):\n",
    "        features_spatial = bin_spatial(feature_image,size=spatial_size)\n",
    "    if(hog_feat==True):\n",
    "        if hog_channel == 'ALL':\n",
    "            features_hog=[]\n",
    "            for channel in range(feature_image.shape[2]):\n",
    "                ch_feats = get_hog_features(feature_image[:,:,channel], \n",
    "                                            orient, pix_per_cell, cell_per_block, \n",
    "                                            vis=False, feature_vec=False).ravel()\n",
    "                features_hog.append(ch_feats)\n",
    "            features_hog = np.hstack(features_hog)\n",
    "        else:\n",
    "            features_hog = get_hog_features(feature_image[:,:,hog_channel], orient, \n",
    "                                            pix_per_cell, cell_per_block,\n",
    "                                            vis=False, feature_vec=True)\n",
    "    features = np.concatenate((features_spatial,features_colhist,features_hog))\n",
    "    return features"
   ]
  },
  {
   "cell_type": "markdown",
   "metadata": {},
   "source": [
    "The functions are now applied and with the extracted features the classifier is trained:"
   ]
  },
  {
   "cell_type": "code",
   "execution_count": null,
   "metadata": {},
   "outputs": [],
   "source": [
    "# extract features from images:\n",
    "car_features   = []\n",
    "nocar_features = []\n",
    "for car in cars:\n",
    "    img = cv2.cvtColor(cv2.imread(car),cv2.COLOR_BGR2RGB)\n",
    "    car_features.append(extract_features(img, cspace='YCrCb', hog_channel=0))\n",
    "\n",
    "for nocar in nocars:\n",
    "    img = cv2.cvtColor(cv2.imread(nocar),cv2.COLOR_BGR2RGB)\n",
    "    nocar_features.append(extract_features(img, cspace='YCrCb', hog_channel=0))\n",
    "\n",
    "if len(car_features) > 0:\n",
    "    # Create an array stack of feature vectors\n",
    "    X = np.vstack((car_features, nocar_features)).astype(np.float64)\n",
    "    # Fit a per-column scaler\n",
    "    X_scaler = StandardScaler().fit(X)\n",
    "    # Apply the scaler to X\n",
    "    scaled_X = X_scaler.transform(X)\n",
    "else:\n",
    "    print('function only returns empty feature vectors...')\n",
    "        \n",
    "# Define the labels vector\n",
    "y = np.hstack((np.ones(len(car_features)), np.zeros(len(nocar_features))))"
   ]
  },
  {
   "cell_type": "code",
   "execution_count": null,
   "metadata": {
    "collapsed": true
   },
   "outputs": [],
   "source": [
    "# Split up data into randomized training and test sets\n",
    "rand_state = np.random.randint(0, 100)\n",
    "X_train, X_test, y_train, y_test = train_test_split(scaled_X, y, test_size=0.2, random_state=rand_state)"
   ]
  },
  {
   "cell_type": "code",
   "execution_count": null,
   "metadata": {},
   "outputs": [],
   "source": [
    "#parameters = {'C':[1, 10]}\n",
    "clf = LinearSVC()\n",
    "#clf = GridSearchCV(svr, parameters) \n",
    "#print(clf.best_params_)\n",
    "\n",
    "# Check the training time for the SVC\n",
    "t=time.time()\n",
    "clf.fit(X_train, y_train)\n",
    "t2 = time.time()\n",
    "print(round(t2-t, 2), 'Seconds to train SVC...')\n",
    "# Check the score of the SVC\n",
    "print('Test Accuracy of SVC = ', round(clf.score(X_test, y_test), 4))\n",
    "# Check the prediction time for a single sample\n",
    "t=time.time()\n",
    "n_predict = 10\n",
    "print('My SVC predicts: ', clf.predict(X_test[0:n_predict]))\n",
    "print('For these',n_predict, 'labels: ', y_test[0:n_predict])\n",
    "t2 = time.time()\n",
    "print(round(t2-t, 5), 'Seconds to predict', n_predict,'labels with SVC')"
   ]
  },
  {
   "cell_type": "markdown",
   "metadata": {},
   "source": [
    "# Detect cars in images by sliding window search"
   ]
  },
  {
   "cell_type": "code",
   "execution_count": null,
   "metadata": {
    "collapsed": true
   },
   "outputs": [],
   "source": [
    "def slide_window(img, x_start_stop=[None, None], y_start_stop=[None, None], \n",
    "                    xy_window=(64, 64), xy_overlap=(0.5, 0.5)):\n",
    "    # If x and/or y start/stop positions not defined, set to image size\n",
    "    if x_start_stop[0] == None:\n",
    "        x_start_stop[0] = 0\n",
    "    if x_start_stop[1] == None:\n",
    "        x_start_stop[1] = img.shape[1]\n",
    "    if y_start_stop[0] == None:\n",
    "        y_start_stop[0] = 0\n",
    "    if y_start_stop[1] == None:\n",
    "        y_start_stop[1] = img.shape[0]\n",
    "    # Compute the span of the region to be searched    \n",
    "    xspan = x_start_stop[1] - x_start_stop[0]\n",
    "    yspan = y_start_stop[1] - y_start_stop[0]\n",
    "    # Compute the number of pixels per step in x/y\n",
    "    nx_pix_per_step = np.int(xy_window[0]*(1 - xy_overlap[0]))\n",
    "    ny_pix_per_step = np.int(xy_window[1]*(1 - xy_overlap[1]))\n",
    "    # Compute the number of windows in x/y\n",
    "    nx_buffer = np.int(xy_window[0]*(xy_overlap[0]))\n",
    "    ny_buffer = np.int(xy_window[1]*(xy_overlap[1]))\n",
    "    nx_windows = np.int((xspan-nx_buffer)/nx_pix_per_step) \n",
    "    ny_windows = np.int((yspan-ny_buffer)/ny_pix_per_step) \n",
    "    # Initialize a list to append window positions to\n",
    "    window_list = []\n",
    "    # Loop through finding x and y window positions\n",
    "    for ys in range(ny_windows):\n",
    "        for xs in range(nx_windows):\n",
    "            # Calculate window position\n",
    "            startx = xs*nx_pix_per_step + x_start_stop[0]\n",
    "            endx = startx + xy_window[0]\n",
    "            starty = ys*ny_pix_per_step + y_start_stop[0]\n",
    "            endy = starty + xy_window[1]\n",
    "            # Append window position to list\n",
    "            window_list.append(((startx, starty), (endx, endy)))\n",
    "    # Return the list of windows\n",
    "    return window_list"
   ]
  },
  {
   "cell_type": "code",
   "execution_count": null,
   "metadata": {
    "collapsed": true
   },
   "outputs": [],
   "source": [
    "def search_windows(img, windows, clf, scaler, color_space='YCrCb', \n",
    "                   hist_bins=32, hist_range=(0, 256),\n",
    "                   spatial_size=(32, 32),\n",
    "                   orient=9, pix_per_cell=8, cell_per_block=2, hog_channel=0,\n",
    "                   hist_feat=True, spatial_feat=True, hog_feat=True):\n",
    "\n",
    "    #1) Create an empty list to receive positive detection windows\n",
    "    on_windows = []\n",
    "    #2) Iterate over all windows in the list\n",
    "    for window in windows:\n",
    "        #3) Extract the test window from original image\n",
    "        test_img = cv2.resize(img[window[0][1]:window[1][1], window[0][0]:window[1][0]], (64, 64))      \n",
    "        #4) Extract features for that window using single_img_features()\n",
    "        features = extract_features(test_img, cspace=color_space, \n",
    "                                    hist_bins=hist_bins, hist_range=hist_range,\n",
    "                                    spatial_size=spatial_size,  \n",
    "                                    orient=orient, pix_per_cell=pix_per_cell, cell_per_block=cell_per_block, hog_channel=hog_channel,\n",
    "                                    hist_feat=hist_feat, spatial_feat=spatial_feat, hog_feat=hog_feat)\n",
    "        \n",
    "        #5) Scale extracted features to be fed to classifier\n",
    "        test_features = scaler.transform(np.array(features).reshape(1, -1))\n",
    "        #6) Predict using your classifier\n",
    "        prediction = clf.predict(test_features)\n",
    "        #7) If positive (prediction == 1) then save the window\n",
    "        if prediction == 1:\n",
    "            on_windows.append(window)\n",
    "    #8) Return windows for positive detections\n",
    "    return on_windows"
   ]
  },
  {
   "cell_type": "code",
   "execution_count": null,
   "metadata": {
    "collapsed": true
   },
   "outputs": [],
   "source": [
    "def draw_boxes(img, bboxes, color=(0, 0, 255), thick=6):\n",
    "    # Make a copy of the image\n",
    "    imcopy = np.copy(img)\n",
    "    # Iterate through the bounding boxes\n",
    "    for bbox in bboxes:\n",
    "        # Draw a rectangle given bbox coordinates\n",
    "        cv2.rectangle(imcopy, bbox[0], bbox[1], color, thick)\n",
    "    # Return the image copy with boxes drawn\n",
    "    return imcopy"
   ]
  },
  {
   "cell_type": "code",
   "execution_count": null,
   "metadata": {
    "collapsed": true
   },
   "outputs": [],
   "source": [
    "def add_heat(heatmap, bbox_list):\n",
    "    # Iterate through list of bboxes\n",
    "    for box in bbox_list:\n",
    "        # Add += 1 for all pixels inside each bbox\n",
    "        # Assuming each \"box\" takes the form ((x1, y1), (x2, y2))\n",
    "        heatmap[box[0][1]:box[1][1], box[0][0]:box[1][0]] += 1\n",
    "    # Return updated heatmap\n",
    "    return heatmap# Iterate through list of bboxes\n",
    "    \n",
    "def apply_threshold(heatmap, threshold):\n",
    "    # Zero out pixels below the threshold\n",
    "    heatmap[heatmap <= threshold] = 0\n",
    "    # Return thresholded map\n",
    "    return heatmap\n",
    "\n",
    "def draw_labeled_bboxes(img, labels):\n",
    "    # Iterate through all detected cars\n",
    "    for car_number in range(1, labels[1]+1):\n",
    "        # Find pixels with each car_number label value\n",
    "        nonzero = (labels[0] == car_number).nonzero()\n",
    "        # Identify x and y values of those pixels\n",
    "        nonzeroy = np.array(nonzero[0])\n",
    "        nonzerox = np.array(nonzero[1])\n",
    "        # Define a bounding box based on min/max x and y\n",
    "        bbox = ((np.min(nonzerox), np.min(nonzeroy)), (np.max(nonzerox), np.max(nonzeroy)))\n",
    "        # Draw the box on the image\n",
    "        cv2.rectangle(img, bbox[0], bbox[1], (0,0,255), 6)\n",
    "    # Return the image\n",
    "    return img"
   ]
  },
  {
   "cell_type": "code",
   "execution_count": null,
   "metadata": {
    "scrolled": false
   },
   "outputs": [],
   "source": [
    "imgstrs = glob.glob('./test_images/*.jpg')\n",
    "\n",
    "plt.figure(figsize=(15,5))\n",
    "i=0\n",
    "for imgstr in imgstrs:\n",
    "    img = cv2.cvtColor(cv2.imread(imgstr),cv2.COLOR_BGR2RGB)\n",
    "    heat = np.zeros_like(img[:,:,0])\n",
    "    i=i+1\n",
    "    plt.subplot(2,3,i)\n",
    "    \n",
    "    #window_list = slide_window(img, y_start_stop=[np.int(img.shape[0]/2), img.shape[0]]) \n",
    "    window_list = slide_window(img, y_start_stop=[np.int(img.shape[0]/2), img.shape[0]], xy_window=(64,64))\n",
    "    hot_windows = search_windows(img, window_list, clf, X_scaler)\n",
    "    heat = add_heat(heat,hot_windows)\n",
    "    heat = apply_threshold(heat,1)\n",
    "    heatmap = np.clip(heat, 0, 255)\n",
    "    labels = label(heatmap)\n",
    "    \n",
    "    img_act = draw_boxes(img, hot_windows, color=(0, 0, 255), thick=6)\n",
    "    hmp_dsp = np.uint8(np.clip(heatmap*50,0,255))\n",
    "    img_hmp = np.dstack((hmp_dsp,hmp_dsp,hmp_dsp))\n",
    "    img_trk = draw_labeled_bboxes(np.copy(img), labels)\n",
    "    \n",
    "    image1 = Image.fromarray(img_trk)\n",
    "    image2 = Image.fromarray(img_hmp)\n",
    "    image3 = Image.fromarray(img_act)\n",
    "    \n",
    "    image2=image2.resize((640,360),Image.ANTIALIAS)\n",
    "    image3=image3.resize((640,360),Image.ANTIALIAS)\n",
    "    \n",
    "    result = Image.new('RGB',(image1.size[0]+image2.size[0],image1.size[1]))\n",
    "    result.paste(im=image1, box=(0, 0))\n",
    "    result.paste(im=image2, box=(image1.size[0], 0))\n",
    "    result.paste(im=image3, box=(image1.size[0], image2.size[1]))\n",
    "    img_plt = np.array(result)\n",
    "    \n",
    "    plt.imshow(img_plt)"
   ]
  },
  {
   "cell_type": "markdown",
   "metadata": {},
   "source": [
    "# Apply search on video stream"
   ]
  },
  {
   "cell_type": "code",
   "execution_count": null,
   "metadata": {
    "collapsed": true
   },
   "outputs": [],
   "source": [
    "# Import everything needed to edit/save/watch video clips\n",
    "from moviepy.editor import VideoFileClip\n",
    "from IPython.display import HTML"
   ]
  },
  {
   "cell_type": "code",
   "execution_count": null,
   "metadata": {
    "collapsed": true
   },
   "outputs": [],
   "source": [
    "def process_image(img):\n",
    "    global heat\n",
    "    #img = cv2.cvtColor(cv2.imread(imgstr),cv2.COLOR_BGR2RGB)\n",
    "    #heat = np.zeros_like(img[:,:,0])\n",
    "    \n",
    "    #window_list = slide_window(img, y_start_stop=[np.int(img.shape[0]/2), img.shape[0]]) \n",
    "    window_list = slide_window(img, y_start_stop=[np.int(img.shape[0]/2), img.shape[0]], xy_window=(64,64))\n",
    "    hot_windows = search_windows(img, window_list, clf, X_scaler)\n",
    "    heat = add_heat(heat,hot_windows)\n",
    "    heat = apply_threshold(heat,2)\n",
    "    heatmap = np.clip(heat, 0, 255)\n",
    "    labels = label(heatmap)\n",
    "    \n",
    "    img_act = draw_boxes(img, hot_windows, color=(0, 0, 255), thick=6)\n",
    "    hmp_dsp = np.uint8(np.clip(heatmap*50,0,255))\n",
    "    img_hmp = np.dstack((hmp_dsp,hmp_dsp,hmp_dsp))\n",
    "    img_trk = draw_labeled_bboxes(np.copy(img), labels)\n",
    "    \n",
    "    image1 = Image.fromarray(img_trk)\n",
    "    image2 = Image.fromarray(img_hmp)\n",
    "    image3 = Image.fromarray(img_act)\n",
    "    \n",
    "    image2=image2.resize((640,360),Image.ANTIALIAS)\n",
    "    image3=image3.resize((640,360),Image.ANTIALIAS)\n",
    "    \n",
    "    result = Image.new('RGB',(image1.size[0]+image2.size[0],image1.size[1]))\n",
    "    result.paste(im=image1, box=(0, 0))\n",
    "    result.paste(im=image2, box=(image1.size[0], 0))\n",
    "    result.paste(im=image3, box=(image1.size[0], image2.size[1]))\n",
    "    img_plt = np.array(result)\n",
    "    \n",
    "    return img_plt"
   ]
  },
  {
   "cell_type": "code",
   "execution_count": null,
   "metadata": {},
   "outputs": [],
   "source": [
    "video_output = './test_videos_output/project_video.mp4'\n",
    "video_input = VideoFileClip(\"./test_videos_input/project_video.mp4\")\n",
    "global heat\n",
    "heat = np.zeros(shape=(720,1280,1))\n",
    "clip = video_input.fl_image(process_image)#.subclip(0,5) #NOTE: this function expects color images!!\n",
    "%time clip.write_videofile(video_output, audio=False)"
   ]
  },
  {
   "cell_type": "markdown",
   "metadata": {},
   "source": [
    "## ---------------------"
   ]
  }
 ],
 "metadata": {
  "kernelspec": {
   "display_name": "Python 3",
   "language": "python",
   "name": "python3"
  },
  "language_info": {
   "codemirror_mode": {
    "name": "ipython",
    "version": 3
   },
   "file_extension": ".py",
   "mimetype": "text/x-python",
   "name": "python",
   "nbconvert_exporter": "python",
   "pygments_lexer": "ipython3",
   "version": "3.5.2"
  },
  "widgets": {
   "state": {},
   "version": "1.1.2"
  }
 },
 "nbformat": 4,
 "nbformat_minor": 2
}
